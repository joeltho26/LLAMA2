{
 "cells": [
  {
   "cell_type": "code",
   "execution_count": 3,
   "metadata": {},
   "outputs": [],
   "source": [
    "import os\n",
    "from dotenv import load_dotenv\n",
    "load_dotenv()\n",
    "\n",
    "gradientai_token= os.getenv('GRADIENT_ACCESS_TOKEN')\n",
    "gradientai_workspace_id = os.getenv('GRADIENTAI_WORKSPACE_ID')"
   ]
  },
  {
   "cell_type": "code",
   "execution_count": null,
   "metadata": {},
   "outputs": [],
   "source": [
    "from gradientai import Gradient\n",
    "\n",
    "def main():\n",
    "    gradient = Gradient()\n",
    "\n",
    "    base_model = gradient.get_base_model(base_model_slug=\"nous-hermes2\")\n",
    "\n",
    "    new_model_adapter = base_model.create_model_adapter(\n",
    "        name=\"BaseModel\"\n",
    "    )\n",
    "    print(f\"Created model adapter with id {new_model_adapter.id}\")\n",
    "\n",
    "\n",
    "    sample_query = \"### Instruction: Who is Krish Naik? \\n\\n ### Response:\"\n",
    "    print(f\"Asking: {sample_query}\")\n",
    "    \n",
    "    ## Before Finetuning\n",
    "    completion = new_model_adapter.complete(query=sample_query, max_generated_token_count=100).generated_output\n",
    "    print(f\"Generated(before fine tuning): {completion}\")\n",
    "\n",
    "    samples=[\n",
    "        {\"inputs\":\"### Instruction: Who is Krish Naik? \\n\\n### Response: Krish is a popular mentor and youtuber who uploads videos on Data Science,AI And LLM in his channel Krish Naik\"},\n",
    "        {\"inputs\":\"### Instruction: Who is this person named Krish Naik? \\n\\n### Response: Krish Naik Like Data Science And AI And makes videos in youtube and he is also a mentor\"},\n",
    "        {\"inputs\":\"### Instruction: What do you know about Krish Naik? \\n\\n### Response: Krish Naik is a popular creator who specializes in the field of Data Science and his channel name is Krish Naik\"},\n",
    "        {\"inputs\":\"### Instruction: Can you tell me about Krish Naik? \\n\\n### Response: Krish Naik is a youtuber,video creator,and a creator who loves Data Science And AI and LLM's\"}\n",
    "    ]\n",
    "\n",
    "    ## Lets define parameters for finetuning\n",
    "    num_epochs=3\n",
    "    count=0\n",
    "    while count<num_epochs:\n",
    "      print(f\"Fine tuning the model with iteration {count + 1}\")\n",
    "      new_model_adapter.fine_tune(samples=samples)\n",
    "      count=count+1\n",
    "\n",
    "    #after fine tuning\n",
    "    completion = new_model_adapter.complete(query=sample_query, max_generated_token_count=100).generated_output\n",
    "    print(f\"Generated(after fine tuning): {completion}\")\n",
    "    new_model_adapter.delete()\n",
    "    gradient.close()\n",
    "\n",
    "if __name__ == \"__main__\":\n",
    "    main()"
   ]
  }
 ],
 "metadata": {
  "kernelspec": {
   "display_name": "Python 3",
   "language": "python",
   "name": "python3"
  },
  "language_info": {
   "codemirror_mode": {
    "name": "ipython",
    "version": 3
   },
   "file_extension": ".py",
   "mimetype": "text/x-python",
   "name": "python",
   "nbconvert_exporter": "python",
   "pygments_lexer": "ipython3",
   "version": "3.9.18"
  }
 },
 "nbformat": 4,
 "nbformat_minor": 2
}
